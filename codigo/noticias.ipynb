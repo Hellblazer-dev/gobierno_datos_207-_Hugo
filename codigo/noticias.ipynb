{
 "cells": [
  {
   "cell_type": "code",
   "execution_count": 1,
   "metadata": {},
   "outputs": [
    {
     "name": "stdout",
     "output_type": "stream",
     "text": [
      "=== Indicadores de calidad de los datos ===\n",
      "Total de artículos: 13\n",
      "Porcentaje sin autor: 0.00%\n",
      "Porcentaje sin título: 0.00%\n",
      "Títulos duplicados: 0\n",
      "Rango de fechas reales: 2025-03-16 → 2025-03-20\n",
      "Cantidad de autores únicos: 11\n",
      "Proporción de artículos por día:\n",
      "fecha\n",
      "2025-03-16    0.076923\n",
      "2025-03-17    0.230769\n",
      "2025-03-18    0.076923\n",
      "2025-03-19    0.153846\n",
      "2025-03-20    0.461538\n",
      "dtype: float64\n",
      "\n",
      "Primeros artículos extraídos:\n",
      "        fecha                                             titulo  \\\n",
      "0  2025-03-20  Díaz lanza un 'zasca' a Montero: \"Cuando algui...   \n",
      "1  2025-03-20  Yolanda Díaz hace una exigencia a Pedro Sánche...   \n",
      "2  2025-03-20  Yolanda Díaz asegura que este partido del Cong...   \n",
      "3  2025-03-20  Women Economic Forum 2025 va por acciones que ...   \n",
      "4  2025-03-20  Imóveis: como o Brasil quer fisgar mais invest...   \n",
      "\n",
      "               autor  \n",
      "0    Autor Redacción  \n",
      "1    Autor Redacción  \n",
      "2    Autor Redacción  \n",
      "3  citlallin.andrade  \n",
      "4    Sergio Ruiz Luz  \n"
     ]
    }
   ],
   "source": [
    "import requests\n",
    "import pandas as pd\n",
    "\n",
    "# === CONFIGURACIÓN ===\n",
    "API_KEY = ''\n",
    "tema = 'economia'\n",
    "fecha_desde = '2025-03-15'\n",
    "fecha_hasta = '2025-03-20'\n",
    "idioma = 'es'\n",
    "\n",
    "# === URL API ===\n",
    "url = f'https://newsapi.org/v2/everything?q={tema}&language={idioma}&from={fecha_desde}&to={fecha_hasta}&pageSize=100&apiKey={API_KEY}'\n",
    "\n",
    "# === CONSULTA ===\n",
    "response = requests.get(url)\n",
    "data = response.json()\n",
    "\n",
    "if data.get('status') == 'ok':\n",
    "    articulos = data['articles']\n",
    "    df = pd.DataFrame([{\n",
    "        'fecha': art['publishedAt'],\n",
    "        'titulo': art['title'],\n",
    "        'autor': art['author']\n",
    "    } for art in articulos])\n",
    "\n",
    "    # === LIMPIEZA Y FORMATEO ===\n",
    "    df['fecha'] = pd.to_datetime(df['fecha']).dt.date\n",
    "\n",
    "    # === INDICADORES DE CALIDAD ===\n",
    "    total = len(df)\n",
    "    nulos_autor = df['autor'].isna().sum()\n",
    "    nulos_titulo = df['titulo'].isna().sum()\n",
    "    duplicados_titulo = df.duplicated(subset='titulo').sum()\n",
    "    fechas_validas = df['fecha'].dropna()\n",
    "\n",
    "    # Indicadores adicionales\n",
    "    autores_unicos = df['autor'].nunique()\n",
    "    proporcion_articulos_por_dia = df.groupby('fecha').size() / total\n",
    "\n",
    "    # === RESULTADOS ===\n",
    "    print(\"=== Indicadores de calidad de los datos ===\")\n",
    "    print(f\"Total de artículos: {total}\")\n",
    "    print(f\"Porcentaje sin autor: {nulos_autor / total * 100:.2f}%\")\n",
    "    print(f\"Porcentaje sin título: {nulos_titulo / total * 100:.2f}%\")\n",
    "    print(f\"Títulos duplicados: {duplicados_titulo}\")\n",
    "    print(f\"Rango de fechas reales: {fechas_validas.min()} → {fechas_validas.max()}\")\n",
    "    print(f\"Cantidad de autores únicos: {autores_unicos}\")\n",
    "    print(\"Proporción de artículos por día:\")\n",
    "    print(proporcion_articulos_por_dia)\n",
    "    print(\"\\nPrimeros artículos extraídos:\")\n",
    "    print(df.head())\n",
    "\n",
    "else:\n",
    "    print(\"Error:\", data.get('message'))"
   ]
  },
  {
   "cell_type": "markdown",
   "metadata": {},
   "source": [
    "# JUSTIFICACION DE LOS INDICADORES DE CALIDAD ###\n"
   ]
  },
  {
   "cell_type": "markdown",
   "metadata": {},
   "source": [
    "### Total de artículos: \n",
    "Esto indicará que tan relevante fue el tema en el periodo seleccionado\n",
    "\n",
    "### Porcentaje sin autor: \n",
    "Esto indicará que tan confiable son las noticias\n",
    "\n",
    "### Porcentaje sin título: \n",
    "Esto indicará que tan confiable son las noticias\n",
    "\n",
    "### Títulos duplicados: \n",
    "Esto evitará sobreestimar la cantidad de articulos\n",
    "\n",
    "### Rango de fechas reales: \n",
    "Esto indicará el rango real de fechas consideradas\n",
    "\n",
    "### Cantidad de autores únicos: \n",
    "Esto evitará sobreestimar la cantidad de articulos que hablas sobre el tema\n",
    "\n",
    "### Proporción de artículos por día: \n",
    "Esto indicará cuales fueron los dias con mayor importancia a considerar para la demanda"
   ]
  }
 ],
 "metadata": {
  "kernelspec": {
   "display_name": "base",
   "language": "python",
   "name": "python3"
  },
  "language_info": {
   "codemirror_mode": {
    "name": "ipython",
    "version": 3
   },
   "file_extension": ".py",
   "mimetype": "text/x-python",
   "name": "python",
   "nbconvert_exporter": "python",
   "pygments_lexer": "ipython3",
   "version": "3.12.4"
  }
 },
 "nbformat": 4,
 "nbformat_minor": 2
}
