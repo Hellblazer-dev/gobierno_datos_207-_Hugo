{
 "cells": [
  {
   "cell_type": "code",
   "execution_count": 1,
   "metadata": {},
   "outputs": [
    {
     "name": "stdout",
     "output_type": "stream",
     "text": [
      "Indicadores de calidad:\n",
      " - total_registros: 168\n",
      " - registros_nulos: 0\n",
      " - temperatura_min: 19.5\n",
      " - temperatura_max: 25.8\n",
      " - advertencia_valores_extremos: False\n",
      "\n",
      "Primeras filas de datos:\n",
      "          timestamp  temperatura_2m\n",
      "0  2025-03-25T00:00            20.6\n",
      "1  2025-03-25T01:00            20.1\n",
      "2  2025-03-25T02:00            20.1\n",
      "3  2025-03-25T03:00            20.0\n",
      "4  2025-03-25T04:00            19.8\n"
     ]
    }
   ],
   "source": [
    "import requests\n",
    "import pandas as pd\n",
    "\n",
    "def obtener_temperatura(lat, lon, fecha_inicio, fecha_fin):\n",
    "    url = \"https://archive-api.open-meteo.com/v1/archive\"\n",
    "    \n",
    "    params = {\n",
    "        \"latitude\": lat,\n",
    "        \"longitude\": lon,\n",
    "        \"start_date\": fecha_inicio,\n",
    "        \"end_date\": fecha_fin,\n",
    "        \"hourly\": \"temperature_2m\",\n",
    "        \"timezone\": \"auto\"\n",
    "    }\n",
    "\n",
    "    response = requests.get(url, params=params)\n",
    "    \n",
    "    if response.status_code != 200:\n",
    "        return {\"error\": \"Error en la respuesta de la API\", \"codigo\": response.status_code}\n",
    "\n",
    "    data = response.json()\n",
    "    temperaturas = data.get(\"hourly\", {}).get(\"temperature_2m\", [])\n",
    "    timestamps = data.get(\"hourly\", {}).get(\"time\", [])\n",
    "\n",
    "    if not temperaturas or not timestamps:\n",
    "        return {\"error\": \"No se encontraron datos de temperatura\"}\n",
    "\n",
    "    df = pd.DataFrame({\n",
    "        \"timestamp\": timestamps,\n",
    "        \"temperatura_2m\": temperaturas\n",
    "    })\n",
    "\n",
    "    # --- Indicadores de calidad ---\n",
    "    calidad = {}\n",
    "    calidad[\"total_registros\"] = len(df)\n",
    "    calidad[\"registros_nulos\"] = df[\"temperatura_2m\"].isna().sum()\n",
    "    calidad[\"temperatura_min\"] = df[\"temperatura_2m\"].min()\n",
    "    calidad[\"temperatura_max\"] = df[\"temperatura_2m\"].max()\n",
    "\n",
    "    # Valores extremos para alertar si hay datos sospechosos\n",
    "    if df[\"temperatura_2m\"].min() < -30 or df[\"temperatura_2m\"].max() > 50:\n",
    "        calidad[\"advertencia_valores_extremos\"] = True\n",
    "    else:\n",
    "        calidad[\"advertencia_valores_extremos\"] = False\n",
    "\n",
    "    return {\"datos\": df, \"calidad\": calidad}\n",
    "\n",
    "# Ejemplo: Lima (latitud, longitud) y rango de fechas\n",
    "resultado = obtener_temperatura(-12.0464, -77.0428, \"2025-03-25\", \"2025-03-31\")\n",
    "\n",
    "if \"error\" in resultado:\n",
    "    print(\"Error:\", resultado[\"error\"])\n",
    "else:\n",
    "    print(\"Indicadores de calidad:\")\n",
    "    for k, v in resultado[\"calidad\"].items():\n",
    "        print(f\" - {k}: {v}\")\n",
    "    print(\"\\nPrimeras filas de datos:\")\n",
    "    print(resultado[\"datos\"].head())\n"
   ]
  },
  {
   "cell_type": "markdown",
   "metadata": {},
   "source": [
    "# JUSTIFICACION DE LOS INDICADORES DE CALIDAD ###"
   ]
  },
  {
   "cell_type": "markdown",
   "metadata": {},
   "source": [
    "### total_registros: \n",
    "Esto asegura tener la cantidad de registros esperados\n",
    "### registros_nulos:\n",
    "Esto asegura que no falte ningun registro\n",
    "### advertencia_valores_extremos: \n",
    "Esto ayuda a identificar errores si los valores estan fuera de un rango razonable"
   ]
  }
 ],
 "metadata": {
  "kernelspec": {
   "display_name": "base",
   "language": "python",
   "name": "python3"
  },
  "language_info": {
   "codemirror_mode": {
    "name": "ipython",
    "version": 3
   },
   "file_extension": ".py",
   "mimetype": "text/x-python",
   "name": "python",
   "nbconvert_exporter": "python",
   "pygments_lexer": "ipython3",
   "version": "3.12.4"
  }
 },
 "nbformat": 4,
 "nbformat_minor": 2
}
